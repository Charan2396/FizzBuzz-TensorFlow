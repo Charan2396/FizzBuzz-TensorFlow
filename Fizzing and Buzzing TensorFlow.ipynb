{
 "cells": [
  {
   "cell_type": "code",
   "execution_count": 267,
   "metadata": {},
   "outputs": [],
   "source": [
    "import numpy as np\n",
    "import tensorflow as tf\n",
    "from tqdm import tqdm_notebook\n",
    "import pandas as pd\n",
    "from keras.utils import np_utils\n",
    "%matplotlib inline"
   ]
  },
  {
   "cell_type": "markdown",
   "metadata": {},
   "source": [
    "## Logic Based FizzBuzz Function [Software 1.0]"
   ]
  },
  {
   "cell_type": "code",
   "execution_count": 268,
   "metadata": {},
   "outputs": [],
   "source": [
    "# Code in software 1.0 using logical approach.\n",
    "def fizzbuzz(n):\n",
    "    \n",
    "    # Logic Explanation. If the modulo operator is applied to the input(integer), we get a reminder. If this reminder is 0, we can say that the input is divisible by 3,5 or 3and5. If it does not satisfy any of the modulo operations, then we return Other.\n",
    "    if n % 3 == 0 and n % 5 == 0:\n",
    "        return 'FizzBuzz'\n",
    "    elif n % 3 == 0:\n",
    "        return 'Fizz'\n",
    "    elif n % 5 == 0:\n",
    "        return 'Buzz'\n",
    "    else:\n",
    "        return 'Other'\n"
   ]
  },
  {
   "cell_type": "markdown",
   "metadata": {},
   "source": [
    "## Create Training and Testing Datasets in CSV Format"
   ]
  },
  {
   "cell_type": "code",
   "execution_count": 269,
   "metadata": {},
   "outputs": [],
   "source": [
    "'''THis function in fizzbuzz is used to create csv files, that is later fed to the model for training.\n",
    "   We use this function to create 3 csv files. In input csv file, we have two fields, imputs and the label. '''\n",
    "\n",
    "def createInputCSV(start,end,filename):\n",
    "    \n",
    "    ''' Lists in python are easily traversable and simple to access, and input data is a collection of bit(binary)\n",
    "    and the output data has four possible outputs.So to store them, we need lists (which is similar to an array)'''\n",
    "    inputData   = []\n",
    "    outputData  = []\n",
    "    \n",
    "    '''Why do we need training Data? Training Data is required to train the model. In this, we label all\n",
    "    the data for the model to train. Basically we are pairing the input(numbers) with the expected output'''\n",
    "    for i in range(start,end):\n",
    "        inputData.append(i)\n",
    "        outputData.append(fizzbuzz(i))\n",
    "    \n",
    "    ''' Why Dataframe? Dataframe is a 2D data structure. So here it helps us to store input and label in 2 columns,\n",
    "    where each input corresponds to a label. Dataframe provides many operations and attributes to manipulate data.'''\n",
    "    dataset = {}\n",
    "    dataset[\"input\"]  = inputData\n",
    "    dataset[\"label\"] = outputData\n",
    "    \n",
    "    # Writing to csv \n",
    "    pd.DataFrame(dataset).to_csv(filename)\n",
    "    \n",
    "    print(filename, \"Created!\")"
   ]
  },
  {
   "cell_type": "markdown",
   "metadata": {},
   "source": [
    "## Processing Input and Label Data"
   ]
  },
  {
   "cell_type": "code",
   "execution_count": 270,
   "metadata": {},
   "outputs": [],
   "source": [
    "def processData(dataset):\n",
    "    \n",
    "    ''' Why do we have to process? Data must be processed to make it more usable and informative. \n",
    "    Raw data cannot be fed into the machine directly. We won't get expected output from the model if the \n",
    "    data is not processed '''\n",
    "    data   = dataset['input'].values\n",
    "    labels = dataset['label'].values\n",
    "    \n",
    "    processedData  = encodeData(data)\n",
    "    processedLabel = encodeLabel(labels)\n",
    "    \n",
    "    return processedData, processedLabel"
   ]
  },
  {
   "cell_type": "code",
   "execution_count": 271,
   "metadata": {},
   "outputs": [],
   "source": [
    "import numpy as np\n",
    "\n",
    "def encodeData(data):\n",
    "    \n",
    "    processedData = []\n",
    "    \n",
    "    for dataInstance in data:\n",
    "        \n",
    "        # Why do we have number 10? For the number of bits to feed to the input layer.\n",
    "        # 10 bits are required for the neurons (input layer).\n",
    "        processedData.append([dataInstance >> d & 1 for d in range(10)])\n",
    "    \n",
    "    return np.array(processedData)"
   ]
  },
  {
   "cell_type": "code",
   "execution_count": 272,
   "metadata": {},
   "outputs": [],
   "source": [
    "#Function to fit values to label field, to process data. As we have 4 different outputs, so we have 4 labels.\n",
    "def encodeLabel(labels):\n",
    "    \n",
    "    processedLabel = []\n",
    "    \n",
    "    for labelInstance in labels:\n",
    "        if(labelInstance == \"FizzBuzz\"):\n",
    "            # Fizzbuzz\n",
    "            processedLabel.append([3])\n",
    "        elif(labelInstance == \"Fizz\"):\n",
    "            # Fizz\n",
    "            processedLabel.append([1])\n",
    "        elif(labelInstance == \"Buzz\"):\n",
    "            # Buzz\n",
    "            processedLabel.append([2])\n",
    "        else:\n",
    "            # Other\n",
    "            processedLabel.append([0])\n",
    "\n",
    "    return np_utils.to_categorical(np.array(processedLabel),4)"
   ]
  },
  {
   "cell_type": "code",
   "execution_count": 273,
   "metadata": {},
   "outputs": [
    {
     "name": "stdout",
     "output_type": "stream",
     "text": [
      "training.csv Created!\n",
      "testing.csv Created!\n"
     ]
    }
   ],
   "source": [
    "# Create datafiles\n",
    "createInputCSV(101,1001,'training.csv')\n",
    "createInputCSV(1,101,'testing.csv')"
   ]
  },
  {
   "cell_type": "code",
   "execution_count": 274,
   "metadata": {},
   "outputs": [],
   "source": [
    "# Read Dataset, Using the pandas library to read the csv and store them in variables, which are further sent for processing\n",
    "trainingData = pd.read_csv('training.csv')\n",
    "testingData  = pd.read_csv('testing.csv')\n",
    "\n",
    "# Process Dataset\n",
    "processedTrainingData, processedTrainingLabel = processData(trainingData)\n",
    "processedTestingData, processedTestingLabel   = processData(testingData)"
   ]
  },
  {
   "cell_type": "markdown",
   "metadata": {},
   "source": [
    "## Tensorflow Model Definition"
   ]
  },
  {
   "cell_type": "code",
   "execution_count": 275,
   "metadata": {},
   "outputs": [],
   "source": [
    "# Defining Placeholder. Placeholders are using to allocate variables\n",
    "inputTensor  = tf.placeholder(tf.float32, [None, 10])\n",
    "outputTensor = tf.placeholder(tf.float32, [None, 4])"
   ]
  },
  {
   "cell_type": "code",
   "execution_count": 276,
   "metadata": {},
   "outputs": [],
   "source": [
    "# Defining the number of hidden neurons in the hidden layer.\n",
    "NUM_HIDDEN_NEURONS_LAYER_1 = 100\n",
    "LEARNING_RATE = 0.055\n",
    "training_L=[]\n",
    "\n",
    "# Initializing the weights to Normal Distribution. THis is where all the weights are intialized to the tensor.\n",
    "def init_weights(shape):\n",
    "    return tf.Variable(tf.random_normal(shape,stddev=0.01))\n",
    "\n",
    "# Initializing the input to hidden layer weights, There are 10 inputs and we mention the number of hidden layers.\n",
    "#input hidden weights, are the weights betweent the input and hidden layers\n",
    "input_hidden_weights  = init_weights([10, NUM_HIDDEN_NEURONS_LAYER_1])\n",
    "# Initializing the hidden to output layer weights\n",
    "hidden_output_weights = init_weights([NUM_HIDDEN_NEURONS_LAYER_1, 4])\n",
    "\n",
    "# Computing values at the hidden layer. We are using ReLu as it is computationally less expensive and, our dataset does not involve negative numbers.\n",
    "hidden_layer = tf.nn.relu(tf.matmul(inputTensor, input_hidden_weights))\n",
    "# Computing values at the output layer. We get output by multiplying all the tensors(weights) from the hidden layer\n",
    "output_layer = tf.matmul(hidden_layer, hidden_output_weights)\n",
    "\n",
    "#loss=tf.nn.softmax_cross_entropy_with_logits(logits=output_layer, labels=outputTensor).eval(feed_dict)\n",
    "\n",
    "# Defining Error Function. This function describes the mean of error between the expected probability distribution and the original probability distribution\n",
    "#Softmax takes a tensor and converts it into a tensor of real numbers between the range of (0,1)\n",
    "error_function = tf.reduce_mean(tf.nn.softmax_cross_entropy_with_logits(logits=output_layer, labels=outputTensor))\n",
    "\n",
    "#fn=tf.map_fn(tf.nn.softmax_cross_entropy_with_logits(logits=output_layer, labels=outputTensor), epochs)\n",
    "#with tf.Session() as sess:\n",
    "    #print(sess.run(fn))\n",
    "\n",
    "# Defining Learning Algorithm and Training Parameters. In order for the weights to be set correctly, so that we get expected outputs,\n",
    "# we have to use an optimizing algorithm, which changes the weights thereby minimizing the error.\n",
    "\n",
    "training_GD = tf.train.GradientDescentOptimizer(LEARNING_RATE).minimize(error_function)\n",
    "training_Adam= tf.train.AdamOptimizer(LEARNING_RATE).minimize(error_function)\n",
    "training_RMS= tf.train.RMSPropOptimizer(LEARNING_RATE).minimize(error_function)\n",
    "\n",
    "\n",
    "# Prediction The prection of an input can be found by the largest value. THis is done by the argmax function.\n",
    "prediction = tf.argmax(output_layer, 1)"
   ]
  },
  {
   "cell_type": "markdown",
   "metadata": {},
   "source": [
    "# Training the Model"
   ]
  },
  {
   "cell_type": "code",
   "execution_count": 277,
   "metadata": {},
   "outputs": [
    {
     "data": {
      "application/vnd.jupyter.widget-view+json": {
       "model_id": "e042717a186a45c5ab49a449bee56dce",
       "version_major": 2,
       "version_minor": 0
      },
      "text/plain": [
       "HBox(children=(IntProgress(value=0, max=5000), HTML(value='')))"
      ]
     },
     "metadata": {},
     "output_type": "display_data"
    }
   ],
   "source": [
    "NUM_OF_EPOCHS = 5000\n",
    "BATCH_SIZE = 100\n",
    "\n",
    "training_accuracy = []\n",
    "\n",
    "#session is used to run tensorflow operations and it initiates the tensorflow object\n",
    "with tf.Session() as sess:\n",
    "    \n",
    "    ''' Set Global Variables ? All variables are initialized using this function.\n",
    "     Before you can use a variable, it must be initialized. So in the current fizzbuzz program that is the \n",
    "     tensorflow model definition, we are returning variable to set the weights for input, hidden and output layers.\n",
    "     This line of code, initializes all these variables in the session, thereby setting weights. If this is not done\n",
    "     , there won't be any values for the model to train'''\n",
    "    tf.global_variables_initializer().run()\n",
    "    \n",
    "    \n",
    "    a=[]\n",
    "    b=[]\n",
    "    c=[]\n",
    "\n",
    "    \n",
    "    for epoch in tqdm_notebook(range(NUM_OF_EPOCHS)):\n",
    "        total_GD=0\n",
    "        \n",
    "        #Shuffle the Training Dataset at each epoch. This is required in order to\n",
    "        p = np.random.permutation(range(len(processedTrainingData)))\n",
    "        processedTrainingData  = processedTrainingData[p]\n",
    "        processedTrainingLabel = processedTrainingLabel[p]\n",
    "        total=0\n",
    "    \n",
    "        # Start batch training. Cannot train the whole batch at once, the reason why batch size is used.\n",
    "        #run function is used to start the tensorflow session\n",
    "        for start in range(0, len(processedTrainingData), BATCH_SIZE):\n",
    "            end = start + BATCH_SIZE\n",
    "            _,cost_GD=sess.run((training_GD, error_function),feed_dict={inputTensor: processedTrainingData[start:end], \n",
    "                                          outputTensor: processedTrainingLabel[start:end]})\n",
    "            '''cost_Adam=sess.run((training_Adam,error_function),feed_dict={inputTensor: processedTrainingData[start:end], \n",
    "                                          outputTensor: processedTrainingLabel[start:end]})\n",
    "            cost_Ada=sess.run((training_Ada,error_function),feed_dict={inputTensor: processedTrainingData[start:end], \n",
    "                                          outputTensor: processedTrainingLabel[start:end]})'''\n",
    "            # adding up the cost\n",
    "            total_GD+=cost_GD\n",
    "            \n",
    "            '''total_Adam+=cost_Adam[1]\n",
    "            total_Ada+=cost_Ada[1]'''\n",
    "               \n",
    "    # Training accuracy for an epoch\n",
    "        # creating a new list and appending the number, which is the sum of costs per batch. This happens for each epoch.\n",
    "        a.append(total_GD/BATCH_SIZE)\n",
    "        training_accuracy.append(np.mean(np.argmax(processedTrainingLabel, axis=1) ==\n",
    "                             sess.run(prediction, feed_dict={inputTensor: processedTrainingData,\n",
    "                                                             outputTensor: processedTrainingLabel})))\n",
    "    \n",
    "        \n",
    "    \n",
    "    \n",
    "    # Testing. The predicted output is required to be test against the test file. \n",
    "    predictedTestLabel = sess.run(prediction, feed_dict={inputTensor: processedTestingData})"
   ]
  },
  {
   "cell_type": "code",
   "execution_count": 278,
   "metadata": {
    "scrolled": true
   },
   "outputs": [
    {
     "data": {
      "text/plain": [
       "<matplotlib.axes._subplots.AxesSubplot at 0x7fea4c687908>"
      ]
     },
     "execution_count": 278,
     "metadata": {},
     "output_type": "execute_result"
    },
    {
     "data": {
      "image/png": "[encoded data removed]",
      "text/plain": [
       "<Figure size 432x288 with 1 Axes>"
      ]
     },
     "metadata": {},
     "output_type": "display_data"
    }
   ],
   "source": [
    "df = pd.DataFrame()\n",
    "#df['LOSS']= a\n",
    "df['acc'] = training_accuracy\n",
    "df['LOSS'] = a\n",
    "\n",
    "#df['epochs']= NUM_OF_EPOCHS\n",
    "df.plot(grid=True, legend=True)"
   ]
  },
  {
   "cell_type": "code",
   "execution_count": 279,
   "metadata": {},
   "outputs": [],
   "source": [
    "def decodeLabel(encodedLabel):\n",
    "    if encodedLabel == 0:\n",
    "        return \"Other\"\n",
    "    elif encodedLabel == 1:\n",
    "        return \"Fizz\"\n",
    "    elif encodedLabel == 2:\n",
    "        return \"Buzz\"\n",
    "    elif encodedLabel == 3:\n",
    "        return \"FizzBuzz\""
   ]
  },
  {
   "cell_type": "markdown",
   "metadata": {},
   "source": [
    "# Testing the Model [Software 2.0]"
   ]
  },
  {
   "cell_type": "code",
   "execution_count": 280,
   "metadata": {},
   "outputs": [
    {
     "name": "stdout",
     "output_type": "stream",
     "text": [
      "Errors: 7  Correct :93\n",
      "Testing Accuracy: 93.0\n"
     ]
    }
   ],
   "source": [
    "#Testing is done against the test.csv\n",
    "wrong   = 0\n",
    "right   = 0\n",
    "\n",
    "predictedTestLabelList = []\n",
    "\"\"\n",
    "for i,j in zip(processedTestingLabel,predictedTestLabel):\n",
    "    predictedTestLabelList.append(decodeLabel(j))\n",
    "    \n",
    "    if np.argmax(i) == j:\n",
    "        right = right + 1\n",
    "    else:\n",
    "        wrong = wrong + 1\n",
    "\n",
    "print(\"Errors: \" + str(wrong), \" Correct :\" + str(right))\n",
    "\n",
    "print(\"Testing Accuracy: \" + str(right/(right+wrong)*100))\n",
    "\n",
    "# Please input your UBID and personNumber \n",
    "testDataInput = testingData['input'].tolist()\n",
    "testDataLabel = testingData['label'].tolist()\n",
    "\n",
    "testDataInput.insert(0, \"UBID\")\n",
    "testDataLabel.insert(0, \"sanand3\")\n",
    "\n",
    "testDataInput.insert(1, \"personNumber\")\n",
    "testDataLabel.insert(1, \"50291478\")\n",
    "\n",
    "predictedTestLabelList.insert(0, \"\")\n",
    "predictedTestLabelList.insert(1, \"\")\n",
    "\n",
    "output = {}\n",
    "output[\"input\"] = testDataInput\n",
    "output[\"label\"] = testDataLabel\n",
    "\n",
    "output[\"predicted_label\"] = predictedTestLabelList\n",
    "\n",
    "opdf = pd.DataFrame(output)\n",
    "opdf.to_csv('output.csv')"
   ]
  },
  {
   "cell_type": "code",
   "execution_count": 235,
   "metadata": {},
   "outputs": [],
   "source": [
    "#GRAPHs\n",
    "\n",
    "\n",
    "\n",
    "\n",
    "\n"
   ]
  },
  {
   "cell_type": "code",
   "execution_count": null,
   "metadata": {},
   "outputs": [],
   "source": []
  }
 ],
 "metadata": {
  "kernelspec": {
   "display_name": "Python 3",
   "language": "python",
   "name": "python3"
  },
  "language_info": {
   "codemirror_mode": {
    "name": "ipython",
    "version": 3
   },
   "file_extension": ".py",
   "mimetype": "text/x-python",
   "name": "python",
   "nbconvert_exporter": "python",
   "pygments_lexer": "ipython3",
   "version": "3.6.5"
  }
 },
 "nbformat": 4,
 "nbformat_minor": 2
}
